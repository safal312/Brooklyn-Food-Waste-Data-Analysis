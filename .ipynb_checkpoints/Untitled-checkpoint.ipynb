{
 "cells": [
  {
   "cell_type": "code",
   "execution_count": 183,
   "id": "01526524",
   "metadata": {},
   "outputs": [],
   "source": [
    "import numpy as np\n",
    "import pandas as pd\n",
    "import matplotlib.pyplot as plt"
   ]
  },
  {
   "cell_type": "code",
   "execution_count": 125,
   "id": "00836a4b",
   "metadata": {},
   "outputs": [],
   "source": [
    "df = pd.read_csv(\"brooklyn.csv\")"
   ]
  },
  {
   "cell_type": "code",
   "execution_count": 126,
   "id": "7b1b9efe",
   "metadata": {},
   "outputs": [
    {
     "data": {
      "text/html": [
       "<div>\n",
       "<style scoped>\n",
       "    .dataframe tbody tr th:only-of-type {\n",
       "        vertical-align: middle;\n",
       "    }\n",
       "\n",
       "    .dataframe tbody tr th {\n",
       "        vertical-align: top;\n",
       "    }\n",
       "\n",
       "    .dataframe thead th {\n",
       "        text-align: right;\n",
       "    }\n",
       "</style>\n",
       "<table border=\"1\" class=\"dataframe\">\n",
       "  <thead>\n",
       "    <tr style=\"text-align: right;\">\n",
       "      <th></th>\n",
       "      <th>id</th>\n",
       "      <th>date_collected</th>\n",
       "      <th>retailer_type</th>\n",
       "      <th>retailer_detail</th>\n",
       "      <th>food_type</th>\n",
       "      <th>food_detail</th>\n",
       "      <th>label_type</th>\n",
       "      <th>label_language</th>\n",
       "      <th>label_date</th>\n",
       "      <th>approximate_dollar_value</th>\n",
       "      <th>image_id</th>\n",
       "      <th>collection_lat</th>\n",
       "      <th>collection_long</th>\n",
       "      <th>label_explanation</th>\n",
       "    </tr>\n",
       "  </thead>\n",
       "  <tbody>\n",
       "    <tr>\n",
       "      <th>0</th>\n",
       "      <td>5e31d5503b85a2e63d634187</td>\n",
       "      <td>2020-01-27</td>\n",
       "      <td>counter service</td>\n",
       "      <td>ready-to-eat and prepackaged health food</td>\n",
       "      <td>ready-to-eat</td>\n",
       "      <td>organic oatmeal</td>\n",
       "      <td>sticker</td>\n",
       "      <td>use by</td>\n",
       "      <td>2020-01-28</td>\n",
       "      <td>5.25</td>\n",
       "      <td>IMG_1872</td>\n",
       "      <td>40.69453</td>\n",
       "      <td>-73.99447</td>\n",
       "      <td>NaN</td>\n",
       "    </tr>\n",
       "    <tr>\n",
       "      <th>1</th>\n",
       "      <td>5e31d5643b85a2e63d634188</td>\n",
       "      <td>2020-01-27</td>\n",
       "      <td>counter service</td>\n",
       "      <td>ready-to-eat and prepackaged health food</td>\n",
       "      <td>ready-to-eat</td>\n",
       "      <td>organic oatmeal</td>\n",
       "      <td>sticker</td>\n",
       "      <td>use by</td>\n",
       "      <td>2020-01-28</td>\n",
       "      <td>5.25</td>\n",
       "      <td>IMG_1873</td>\n",
       "      <td>40.69453</td>\n",
       "      <td>-73.99447</td>\n",
       "      <td>NaN</td>\n",
       "    </tr>\n",
       "    <tr>\n",
       "      <th>2</th>\n",
       "      <td>5e31d8903b85a2e63d634189</td>\n",
       "      <td>2020-01-27</td>\n",
       "      <td>counter service</td>\n",
       "      <td>ready-to-eat and prepackaged health food</td>\n",
       "      <td>ready-to-eat</td>\n",
       "      <td>organic middle eastern salad</td>\n",
       "      <td>sticker</td>\n",
       "      <td>use by</td>\n",
       "      <td>2020-01-28</td>\n",
       "      <td>10.00</td>\n",
       "      <td>IMG_1874</td>\n",
       "      <td>40.69453</td>\n",
       "      <td>-73.99447</td>\n",
       "      <td>NaN</td>\n",
       "    </tr>\n",
       "    <tr>\n",
       "      <th>3</th>\n",
       "      <td>5e31dcee3b85a2e63d63418a</td>\n",
       "      <td>2020-01-27</td>\n",
       "      <td>counter service</td>\n",
       "      <td>ready-to-eat and prepackaged health food</td>\n",
       "      <td>ready-to-eat</td>\n",
       "      <td>organic oatmeal</td>\n",
       "      <td>sticker</td>\n",
       "      <td>use by</td>\n",
       "      <td>2020-01-28</td>\n",
       "      <td>6.25</td>\n",
       "      <td>IMG_1875</td>\n",
       "      <td>40.69453</td>\n",
       "      <td>-73.99447</td>\n",
       "      <td>NaN</td>\n",
       "    </tr>\n",
       "    <tr>\n",
       "      <th>4</th>\n",
       "      <td>5e31dd273b85a2e63d63418b</td>\n",
       "      <td>2020-01-27</td>\n",
       "      <td>counter service</td>\n",
       "      <td>ready-to-eat and prepackaged health food</td>\n",
       "      <td>ready-to-eat</td>\n",
       "      <td>organic mexican salad</td>\n",
       "      <td>sticker</td>\n",
       "      <td>use by</td>\n",
       "      <td>2020-01-28</td>\n",
       "      <td>10.00</td>\n",
       "      <td>IMG_1876</td>\n",
       "      <td>40.69453</td>\n",
       "      <td>-73.99447</td>\n",
       "      <td>NaN</td>\n",
       "    </tr>\n",
       "  </tbody>\n",
       "</table>\n",
       "</div>"
      ],
      "text/plain": [
       "                         id date_collected    retailer_type  \\\n",
       "0  5e31d5503b85a2e63d634187     2020-01-27  counter service   \n",
       "1  5e31d5643b85a2e63d634188     2020-01-27  counter service   \n",
       "2  5e31d8903b85a2e63d634189     2020-01-27  counter service   \n",
       "3  5e31dcee3b85a2e63d63418a     2020-01-27  counter service   \n",
       "4  5e31dd273b85a2e63d63418b     2020-01-27  counter service   \n",
       "\n",
       "                            retailer_detail     food_type  \\\n",
       "0  ready-to-eat and prepackaged health food  ready-to-eat   \n",
       "1  ready-to-eat and prepackaged health food  ready-to-eat   \n",
       "2  ready-to-eat and prepackaged health food  ready-to-eat   \n",
       "3  ready-to-eat and prepackaged health food  ready-to-eat   \n",
       "4  ready-to-eat and prepackaged health food  ready-to-eat   \n",
       "\n",
       "                    food_detail label_type label_language  label_date  \\\n",
       "0               organic oatmeal    sticker         use by  2020-01-28   \n",
       "1               organic oatmeal    sticker         use by  2020-01-28   \n",
       "2  organic middle eastern salad    sticker         use by  2020-01-28   \n",
       "3               organic oatmeal    sticker         use by  2020-01-28   \n",
       "4         organic mexican salad    sticker         use by  2020-01-28   \n",
       "\n",
       "   approximate_dollar_value  image_id  collection_lat  collection_long  \\\n",
       "0                      5.25  IMG_1872        40.69453        -73.99447   \n",
       "1                      5.25  IMG_1873        40.69453        -73.99447   \n",
       "2                     10.00  IMG_1874        40.69453        -73.99447   \n",
       "3                      6.25  IMG_1875        40.69453        -73.99447   \n",
       "4                     10.00  IMG_1876        40.69453        -73.99447   \n",
       "\n",
       "  label_explanation  \n",
       "0               NaN  \n",
       "1               NaN  \n",
       "2               NaN  \n",
       "3               NaN  \n",
       "4               NaN  "
      ]
     },
     "execution_count": 126,
     "metadata": {},
     "output_type": "execute_result"
    }
   ],
   "source": [
    "df.head()"
   ]
  },
  {
   "cell_type": "code",
   "execution_count": 127,
   "id": "c4ef7b9c",
   "metadata": {},
   "outputs": [
    {
     "data": {
      "text/plain": [
       "sell by             31\n",
       "sell thru           25\n",
       "exp                 16\n",
       "use by              14\n",
       "best by             10\n",
       "best if used by      6\n",
       "12619                4\n",
       "p5b 16:50            3\n",
       "bb                   2\n",
       "use or freeze by     2\n",
       "best used by         1\n",
       "p6493                1\n",
       "by                   1\n",
       "expires              1\n",
       "for                  1\n",
       "t2513 dv             1\n",
       "enjoy by             1\n",
       "Name: label_language, dtype: int64"
      ]
     },
     "execution_count": 127,
     "metadata": {},
     "output_type": "execute_result"
    }
   ],
   "source": [
    "df['label_language'].value_counts()"
   ]
  },
  {
   "cell_type": "code",
   "execution_count": 128,
   "id": "745de5b9",
   "metadata": {},
   "outputs": [
    {
     "data": {
      "text/plain": [
       "<AxesSubplot:xlabel='food_type'>"
      ]
     },
     "execution_count": 128,
     "metadata": {},
     "output_type": "execute_result"
    },
    {
     "data": {
      "image/png": "[encoded data removed]",
      "text/plain": [
       "<Figure size 432x288 with 1 Axes>"
      ]
     },
     "metadata": {
      "needs_background": "light"
     },
     "output_type": "display_data"
    }
   ],
   "source": [
    "df.groupby('food_type')['id'].count().plot(kind='bar')"
   ]
  },
  {
   "cell_type": "code",
   "execution_count": 130,
   "id": "d8704981",
   "metadata": {},
   "outputs": [
    {
     "data": {
      "text/plain": [
       "array([10], dtype=int64)"
      ]
     },
     "execution_count": 130,
     "metadata": {},
     "output_type": "execute_result"
    }
   ],
   "source": [
    "df['date_collected'].apply(lambda x: len(x)).unique()"
   ]
  },
  {
   "cell_type": "code",
   "execution_count": 131,
   "id": "2982d0ec",
   "metadata": {},
   "outputs": [],
   "source": [
    "df['date_collected'] = pd.to_datetime(df['date_collected'], errors='coerce')"
   ]
  },
  {
   "cell_type": "code",
   "execution_count": 132,
   "id": "6cf6a05c",
   "metadata": {},
   "outputs": [],
   "source": [
    "df['label_date'] = pd.to_datetime(df['label_date'], errors='coerce')"
   ]
  },
  {
   "cell_type": "code",
   "execution_count": 75,
   "id": "6c479b5a",
   "metadata": {},
   "outputs": [
    {
     "name": "stdout",
     "output_type": "stream",
     "text": [
      "<class 'pandas.core.frame.DataFrame'>\n",
      "Int64Index: 166 entries, 0 to 170\n",
      "Data columns (total 14 columns):\n",
      " #   Column                    Non-Null Count  Dtype         \n",
      "---  ------                    --------------  -----         \n",
      " 0   id                        166 non-null    object        \n",
      " 1   date_collected            166 non-null    datetime64[ns]\n",
      " 2   retailer_type             166 non-null    object        \n",
      " 3   retailer_detail           166 non-null    object        \n",
      " 4   food_type                 166 non-null    object        \n",
      " 5   food_detail               166 non-null    object        \n",
      " 6   label_type                166 non-null    object        \n",
      " 7   label_language            119 non-null    object        \n",
      " 8   label_date                166 non-null    datetime64[ns]\n",
      " 9   approximate_dollar_value  166 non-null    float64       \n",
      " 10  image_id                  166 non-null    object        \n",
      " 11  collection_lat            166 non-null    float64       \n",
      " 12  collection_long           166 non-null    float64       \n",
      " 13  label_explanation         1 non-null      object        \n",
      "dtypes: datetime64[ns](2), float64(3), object(9)\n",
      "memory usage: 19.5+ KB\n"
     ]
    }
   ],
   "source": [
    "df.info()"
   ]
  },
  {
   "cell_type": "code",
   "execution_count": 150,
   "id": "73e0687b",
   "metadata": {},
   "outputs": [],
   "source": [
    "df = df[df['label_date'].notna()]"
   ]
  },
  {
   "cell_type": "code",
   "execution_count": 154,
   "id": "2ff5cfa4",
   "metadata": {},
   "outputs": [],
   "source": [
    "df['diff'] = df['label_date']-df['date_collected']"
   ]
  },
  {
   "cell_type": "code",
   "execution_count": 155,
   "id": "40e9c3f0",
   "metadata": {},
   "outputs": [
    {
     "data": {
      "text/plain": [
       "array([False])"
      ]
     },
     "execution_count": 155,
     "metadata": {},
     "output_type": "execute_result"
    }
   ],
   "source": [
    "df['diff'].isna().unique()"
   ]
  },
  {
   "cell_type": "code",
   "execution_count": 93,
   "id": "e3fcd481",
   "metadata": {},
   "outputs": [
    {
     "data": {
      "text/html": [
       "<div>\n",
       "<style scoped>\n",
       "    .dataframe tbody tr th:only-of-type {\n",
       "        vertical-align: middle;\n",
       "    }\n",
       "\n",
       "    .dataframe tbody tr th {\n",
       "        vertical-align: top;\n",
       "    }\n",
       "\n",
       "    .dataframe thead th {\n",
       "        text-align: right;\n",
       "    }\n",
       "</style>\n",
       "<table border=\"1\" class=\"dataframe\">\n",
       "  <thead>\n",
       "    <tr style=\"text-align: right;\">\n",
       "      <th></th>\n",
       "      <th>id</th>\n",
       "      <th>date_collected</th>\n",
       "      <th>retailer_type</th>\n",
       "      <th>retailer_detail</th>\n",
       "      <th>food_type</th>\n",
       "      <th>food_detail</th>\n",
       "      <th>label_type</th>\n",
       "      <th>label_language</th>\n",
       "      <th>label_date</th>\n",
       "      <th>approximate_dollar_value</th>\n",
       "      <th>image_id</th>\n",
       "      <th>collection_lat</th>\n",
       "      <th>collection_long</th>\n",
       "      <th>label_explanation</th>\n",
       "      <th>diff</th>\n",
       "    </tr>\n",
       "  </thead>\n",
       "  <tbody>\n",
       "    <tr>\n",
       "      <th>0</th>\n",
       "      <td>5e31d5503b85a2e63d634187</td>\n",
       "      <td>2020-01-27</td>\n",
       "      <td>counter service</td>\n",
       "      <td>ready-to-eat and prepackaged health food</td>\n",
       "      <td>ready-to-eat</td>\n",
       "      <td>organic oatmeal</td>\n",
       "      <td>sticker</td>\n",
       "      <td>use by</td>\n",
       "      <td>2020-01-28</td>\n",
       "      <td>5.25</td>\n",
       "      <td>IMG_1872</td>\n",
       "      <td>40.69453</td>\n",
       "      <td>-73.99447</td>\n",
       "      <td>NaN</td>\n",
       "      <td>1 days</td>\n",
       "    </tr>\n",
       "    <tr>\n",
       "      <th>1</th>\n",
       "      <td>5e31d5643b85a2e63d634188</td>\n",
       "      <td>2020-01-27</td>\n",
       "      <td>counter service</td>\n",
       "      <td>ready-to-eat and prepackaged health food</td>\n",
       "      <td>ready-to-eat</td>\n",
       "      <td>organic oatmeal</td>\n",
       "      <td>sticker</td>\n",
       "      <td>use by</td>\n",
       "      <td>2020-01-28</td>\n",
       "      <td>5.25</td>\n",
       "      <td>IMG_1873</td>\n",
       "      <td>40.69453</td>\n",
       "      <td>-73.99447</td>\n",
       "      <td>NaN</td>\n",
       "      <td>1 days</td>\n",
       "    </tr>\n",
       "    <tr>\n",
       "      <th>2</th>\n",
       "      <td>5e31d8903b85a2e63d634189</td>\n",
       "      <td>2020-01-27</td>\n",
       "      <td>counter service</td>\n",
       "      <td>ready-to-eat and prepackaged health food</td>\n",
       "      <td>ready-to-eat</td>\n",
       "      <td>organic middle eastern salad</td>\n",
       "      <td>sticker</td>\n",
       "      <td>use by</td>\n",
       "      <td>2020-01-28</td>\n",
       "      <td>10.00</td>\n",
       "      <td>IMG_1874</td>\n",
       "      <td>40.69453</td>\n",
       "      <td>-73.99447</td>\n",
       "      <td>NaN</td>\n",
       "      <td>1 days</td>\n",
       "    </tr>\n",
       "    <tr>\n",
       "      <th>3</th>\n",
       "      <td>5e31dcee3b85a2e63d63418a</td>\n",
       "      <td>2020-01-27</td>\n",
       "      <td>counter service</td>\n",
       "      <td>ready-to-eat and prepackaged health food</td>\n",
       "      <td>ready-to-eat</td>\n",
       "      <td>organic oatmeal</td>\n",
       "      <td>sticker</td>\n",
       "      <td>use by</td>\n",
       "      <td>2020-01-28</td>\n",
       "      <td>6.25</td>\n",
       "      <td>IMG_1875</td>\n",
       "      <td>40.69453</td>\n",
       "      <td>-73.99447</td>\n",
       "      <td>NaN</td>\n",
       "      <td>1 days</td>\n",
       "    </tr>\n",
       "    <tr>\n",
       "      <th>4</th>\n",
       "      <td>5e31dd273b85a2e63d63418b</td>\n",
       "      <td>2020-01-27</td>\n",
       "      <td>counter service</td>\n",
       "      <td>ready-to-eat and prepackaged health food</td>\n",
       "      <td>ready-to-eat</td>\n",
       "      <td>organic mexican salad</td>\n",
       "      <td>sticker</td>\n",
       "      <td>use by</td>\n",
       "      <td>2020-01-28</td>\n",
       "      <td>10.00</td>\n",
       "      <td>IMG_1876</td>\n",
       "      <td>40.69453</td>\n",
       "      <td>-73.99447</td>\n",
       "      <td>NaN</td>\n",
       "      <td>1 days</td>\n",
       "    </tr>\n",
       "  </tbody>\n",
       "</table>\n",
       "</div>"
      ],
      "text/plain": [
       "                         id date_collected    retailer_type  \\\n",
       "0  5e31d5503b85a2e63d634187     2020-01-27  counter service   \n",
       "1  5e31d5643b85a2e63d634188     2020-01-27  counter service   \n",
       "2  5e31d8903b85a2e63d634189     2020-01-27  counter service   \n",
       "3  5e31dcee3b85a2e63d63418a     2020-01-27  counter service   \n",
       "4  5e31dd273b85a2e63d63418b     2020-01-27  counter service   \n",
       "\n",
       "                            retailer_detail     food_type  \\\n",
       "0  ready-to-eat and prepackaged health food  ready-to-eat   \n",
       "1  ready-to-eat and prepackaged health food  ready-to-eat   \n",
       "2  ready-to-eat and prepackaged health food  ready-to-eat   \n",
       "3  ready-to-eat and prepackaged health food  ready-to-eat   \n",
       "4  ready-to-eat and prepackaged health food  ready-to-eat   \n",
       "\n",
       "                    food_detail label_type label_language label_date  \\\n",
       "0               organic oatmeal    sticker         use by 2020-01-28   \n",
       "1               organic oatmeal    sticker         use by 2020-01-28   \n",
       "2  organic middle eastern salad    sticker         use by 2020-01-28   \n",
       "3               organic oatmeal    sticker         use by 2020-01-28   \n",
       "4         organic mexican salad    sticker         use by 2020-01-28   \n",
       "\n",
       "   approximate_dollar_value  image_id  collection_lat  collection_long  \\\n",
       "0                      5.25  IMG_1872        40.69453        -73.99447   \n",
       "1                      5.25  IMG_1873        40.69453        -73.99447   \n",
       "2                     10.00  IMG_1874        40.69453        -73.99447   \n",
       "3                      6.25  IMG_1875        40.69453        -73.99447   \n",
       "4                     10.00  IMG_1876        40.69453        -73.99447   \n",
       "\n",
       "  label_explanation   diff  \n",
       "0               NaN 1 days  \n",
       "1               NaN 1 days  \n",
       "2               NaN 1 days  \n",
       "3               NaN 1 days  \n",
       "4               NaN 1 days  "
      ]
     },
     "execution_count": 93,
     "metadata": {},
     "output_type": "execute_result"
    }
   ],
   "source": [
    "df.head()"
   ]
  },
  {
   "cell_type": "code",
   "execution_count": 167,
   "id": "50d00dee",
   "metadata": {},
   "outputs": [],
   "source": [
    "df['diff'] = df['diff'].astype('str').apply(lambda x: x.split(' ')[0]).astype('int')"
   ]
  },
  {
   "cell_type": "code",
   "execution_count": 188,
   "id": "42b8c369",
   "metadata": {},
   "outputs": [],
   "source": [
    "df_labels = df.groupby('label_language').count().id.to_frame()"
   ]
  },
  {
   "cell_type": "code",
   "execution_count": 189,
   "id": "bc84c12d",
   "metadata": {},
   "outputs": [],
   "source": [
    "df_labels['diff'] = df.groupby('label_language')['diff'].mean()"
   ]
  },
  {
   "cell_type": "code",
   "execution_count": 194,
   "id": "da59ad89",
   "metadata": {},
   "outputs": [],
   "source": [
    "df_labels.columns = ['count','diff']"
   ]
  },
  {
   "cell_type": "code",
   "execution_count": 198,
   "id": "e15672d2",
   "metadata": {},
   "outputs": [
    {
     "data": {
      "text/html": [
       "<div>\n",
       "<style scoped>\n",
       "    .dataframe tbody tr th:only-of-type {\n",
       "        vertical-align: middle;\n",
       "    }\n",
       "\n",
       "    .dataframe tbody tr th {\n",
       "        vertical-align: top;\n",
       "    }\n",
       "\n",
       "    .dataframe thead th {\n",
       "        text-align: right;\n",
       "    }\n",
       "</style>\n",
       "<table border=\"1\" class=\"dataframe\">\n",
       "  <thead>\n",
       "    <tr style=\"text-align: right;\">\n",
       "      <th></th>\n",
       "      <th>count</th>\n",
       "      <th>diff</th>\n",
       "    </tr>\n",
       "    <tr>\n",
       "      <th>label_language</th>\n",
       "      <th></th>\n",
       "      <th></th>\n",
       "    </tr>\n",
       "  </thead>\n",
       "  <tbody>\n",
       "    <tr>\n",
       "      <th>12619</th>\n",
       "      <td>4</td>\n",
       "      <td>3.000000</td>\n",
       "    </tr>\n",
       "    <tr>\n",
       "      <th>bb</th>\n",
       "      <td>2</td>\n",
       "      <td>229.500000</td>\n",
       "    </tr>\n",
       "    <tr>\n",
       "      <th>best by</th>\n",
       "      <td>9</td>\n",
       "      <td>212.666667</td>\n",
       "    </tr>\n",
       "    <tr>\n",
       "      <th>best if used by</th>\n",
       "      <td>6</td>\n",
       "      <td>28.500000</td>\n",
       "    </tr>\n",
       "    <tr>\n",
       "      <th>best used by</th>\n",
       "      <td>1</td>\n",
       "      <td>226.000000</td>\n",
       "    </tr>\n",
       "    <tr>\n",
       "      <th>by</th>\n",
       "      <td>1</td>\n",
       "      <td>625.000000</td>\n",
       "    </tr>\n",
       "    <tr>\n",
       "      <th>enjoy by</th>\n",
       "      <td>1</td>\n",
       "      <td>0.000000</td>\n",
       "    </tr>\n",
       "    <tr>\n",
       "      <th>exp</th>\n",
       "      <td>16</td>\n",
       "      <td>53.500000</td>\n",
       "    </tr>\n",
       "    <tr>\n",
       "      <th>expires</th>\n",
       "      <td>1</td>\n",
       "      <td>1.000000</td>\n",
       "    </tr>\n",
       "    <tr>\n",
       "      <th>for</th>\n",
       "      <td>1</td>\n",
       "      <td>-1.000000</td>\n",
       "    </tr>\n",
       "    <tr>\n",
       "      <th>p5b 16:50</th>\n",
       "      <td>3</td>\n",
       "      <td>-25.000000</td>\n",
       "    </tr>\n",
       "    <tr>\n",
       "      <th>p6493</th>\n",
       "      <td>1</td>\n",
       "      <td>88.000000</td>\n",
       "    </tr>\n",
       "    <tr>\n",
       "      <th>sell by</th>\n",
       "      <td>31</td>\n",
       "      <td>0.903226</td>\n",
       "    </tr>\n",
       "    <tr>\n",
       "      <th>sell thru</th>\n",
       "      <td>25</td>\n",
       "      <td>-0.520000</td>\n",
       "    </tr>\n",
       "    <tr>\n",
       "      <th>t2513 dv</th>\n",
       "      <td>1</td>\n",
       "      <td>-153.000000</td>\n",
       "    </tr>\n",
       "    <tr>\n",
       "      <th>use by</th>\n",
       "      <td>14</td>\n",
       "      <td>0.214286</td>\n",
       "    </tr>\n",
       "    <tr>\n",
       "      <th>use or freeze by</th>\n",
       "      <td>2</td>\n",
       "      <td>-7.000000</td>\n",
       "    </tr>\n",
       "  </tbody>\n",
       "</table>\n",
       "</div>"
      ],
      "text/plain": [
       "                  count        diff\n",
       "label_language                     \n",
       "12619                 4    3.000000\n",
       "bb                    2  229.500000\n",
       "best by               9  212.666667\n",
       "best if used by       6   28.500000\n",
       "best used by          1  226.000000\n",
       "by                    1  625.000000\n",
       "enjoy by              1    0.000000\n",
       "exp                  16   53.500000\n",
       "expires               1    1.000000\n",
       "for                   1   -1.000000\n",
       "p5b 16:50             3  -25.000000\n",
       "p6493                 1   88.000000\n",
       "sell by              31    0.903226\n",
       "sell thru            25   -0.520000\n",
       "t2513 dv              1 -153.000000\n",
       "use by               14    0.214286\n",
       "use or freeze by      2   -7.000000"
      ]
     },
     "execution_count": 198,
     "metadata": {},
     "output_type": "execute_result"
    }
   ],
   "source": [
    "df_labels"
   ]
  },
  {
   "cell_type": "code",
   "execution_count": 182,
   "id": "a6ed7e91",
   "metadata": {},
   "outputs": [
    {
     "data": {
      "text/plain": [
       "<AxesSubplot:>"
      ]
     },
     "execution_count": 182,
     "metadata": {},
     "output_type": "execute_result"
    },
    {
     "data": {
      "image/png": "[encoded data removed]",
      "text/plain": [
       "<Figure size 432x288 with 1 Axes>"
      ]
     },
     "metadata": {
      "needs_background": "light"
     },
     "output_type": "display_data"
    }
   ],
   "source": [
    "df_labels[df_labels['diff'] > 0].plot.box()"
   ]
  },
  {
   "cell_type": "code",
   "execution_count": 223,
   "id": "f79180d5",
   "metadata": {},
   "outputs": [
    {
     "data": {
      "image/png": "[encoded data removed]",
      "text/plain": [
       "<Figure size 1080x2160 with 4 Axes>"
      ]
     },
     "metadata": {
      "needs_background": "light"
     },
     "output_type": "display_data"
    }
   ],
   "source": [
    "fig, axes = plt.subplots(nrows=4, ncols=1, figsize=(15,30))\n",
    "plt.subplots_adjust(wspace=0.2, hspace=0.5)\n",
    "\n",
    "df[df['label_language']=='sell by']['diff'].plot.box(ax=axes[0], figsize=(15,30))\n",
    "axes[0].set_title(\"Sell By\");\n",
    "\n",
    "df[df['label_language']=='sell thru']['diff'].plot.box(ax=axes[1], figsize=(15,30))\n",
    "axes[1].set_title(\"Sell Thru\");\n",
    "\n",
    "df[df['label_language']=='exp']['diff'].plot.box(ax=axes[2], figsize=(15,30))\n",
    "axes[2].set_title(\"Exp\");\n",
    "\n",
    "df[df['label_language']=='use by']['diff'].plot.box(ax=axes[3], figsize=(15,30))\n",
    "axes[3].set_title(\"Use By\");"
   ]
  },
  {
   "cell_type": "code",
   "execution_count": null,
   "id": "37b5c5fa",
   "metadata": {},
   "outputs": [],
   "source": []
  }
 ],
 "metadata": {
  "kernelspec": {
   "display_name": "Python 3",
   "language": "python",
   "name": "python3"
  },
  "language_info": {
   "codemirror_mode": {
    "name": "ipython",
    "version": 3
   },
   "file_extension": ".py",
   "mimetype": "text/x-python",
   "name": "python",
   "nbconvert_exporter": "python",
   "pygments_lexer": "ipython3",
   "version": "3.9.2"
  }
 },
 "nbformat": 4,
 "nbformat_minor": 5
}
