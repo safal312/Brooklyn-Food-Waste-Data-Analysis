{
 "cells": [
  {
   "cell_type": "markdown",
   "id": "5e2ed14a",
   "metadata": {},
   "source": [
    "# Brooklyn Food Waste Data Analysis"
   ]
  },
  {
   "cell_type": "markdown",
   "id": "ab8ed5cc",
   "metadata": {},
   "source": [
    "This project analyzes the data of various products that were found in the randomly selected trash piles from Downtown Brooklyn neighborhood in New York City.\n",
    "This project specifically focuses on the various factors related to food being disposed before their expiration date. Mainly, this project will focus on the following variables:\n",
    "- Label Language\n",
    "- Retailer Type & Food Type\n",
    "- Organic Food Type"
   ]
  },
  {
   "cell_type": "code",
   "execution_count": 123,
   "id": "01526524",
   "metadata": {},
   "outputs": [],
   "source": [
    "# import necessary libaries\n",
    "\n",
    "import numpy as np\n",
    "import pandas as pd\n",
    "import matplotlib.pyplot as plt\n",
    "import seaborn as sns"
   ]
  },
  {
   "cell_type": "code",
   "execution_count": 59,
   "id": "00836a4b",
   "metadata": {},
   "outputs": [],
   "source": [
    "df = pd.read_csv(\"brooklyn.csv\")"
   ]
  },
  {
   "cell_type": "code",
   "execution_count": 60,
   "id": "7b1b9efe",
   "metadata": {
    "scrolled": false
   },
   "outputs": [
    {
     "data": {
      "text/html": [
       "<div>\n",
       "<style scoped>\n",
       "    .dataframe tbody tr th:only-of-type {\n",
       "        vertical-align: middle;\n",
       "    }\n",
       "\n",
       "    .dataframe tbody tr th {\n",
       "        vertical-align: top;\n",
       "    }\n",
       "\n",
       "    .dataframe thead th {\n",
       "        text-align: right;\n",
       "    }\n",
       "</style>\n",
       "<table border=\"1\" class=\"dataframe\">\n",
       "  <thead>\n",
       "    <tr style=\"text-align: right;\">\n",
       "      <th></th>\n",
       "      <th>id</th>\n",
       "      <th>date_collected</th>\n",
       "      <th>retailer_type</th>\n",
       "      <th>retailer_detail</th>\n",
       "      <th>food_type</th>\n",
       "      <th>food_detail</th>\n",
       "      <th>label_type</th>\n",
       "      <th>label_language</th>\n",
       "      <th>label_date</th>\n",
       "      <th>approximate_dollar_value</th>\n",
       "      <th>image_id</th>\n",
       "      <th>collection_lat</th>\n",
       "      <th>collection_long</th>\n",
       "      <th>label_explanation</th>\n",
       "    </tr>\n",
       "  </thead>\n",
       "  <tbody>\n",
       "    <tr>\n",
       "      <th>0</th>\n",
       "      <td>5e31d5503b85a2e63d634187</td>\n",
       "      <td>2020-01-27</td>\n",
       "      <td>counter service</td>\n",
       "      <td>ready-to-eat and prepackaged health food</td>\n",
       "      <td>ready-to-eat</td>\n",
       "      <td>organic oatmeal</td>\n",
       "      <td>sticker</td>\n",
       "      <td>use by</td>\n",
       "      <td>2020-01-28</td>\n",
       "      <td>5.25</td>\n",
       "      <td>IMG_1872</td>\n",
       "      <td>40.69453</td>\n",
       "      <td>-73.99447</td>\n",
       "      <td>NaN</td>\n",
       "    </tr>\n",
       "    <tr>\n",
       "      <th>1</th>\n",
       "      <td>5e31d5643b85a2e63d634188</td>\n",
       "      <td>2020-01-27</td>\n",
       "      <td>counter service</td>\n",
       "      <td>ready-to-eat and prepackaged health food</td>\n",
       "      <td>ready-to-eat</td>\n",
       "      <td>organic oatmeal</td>\n",
       "      <td>sticker</td>\n",
       "      <td>use by</td>\n",
       "      <td>2020-01-28</td>\n",
       "      <td>5.25</td>\n",
       "      <td>IMG_1873</td>\n",
       "      <td>40.69453</td>\n",
       "      <td>-73.99447</td>\n",
       "      <td>NaN</td>\n",
       "    </tr>\n",
       "    <tr>\n",
       "      <th>2</th>\n",
       "      <td>5e31d8903b85a2e63d634189</td>\n",
       "      <td>2020-01-27</td>\n",
       "      <td>counter service</td>\n",
       "      <td>ready-to-eat and prepackaged health food</td>\n",
       "      <td>ready-to-eat</td>\n",
       "      <td>organic middle eastern salad</td>\n",
       "      <td>sticker</td>\n",
       "      <td>use by</td>\n",
       "      <td>2020-01-28</td>\n",
       "      <td>10.00</td>\n",
       "      <td>IMG_1874</td>\n",
       "      <td>40.69453</td>\n",
       "      <td>-73.99447</td>\n",
       "      <td>NaN</td>\n",
       "    </tr>\n",
       "    <tr>\n",
       "      <th>3</th>\n",
       "      <td>5e31dcee3b85a2e63d63418a</td>\n",
       "      <td>2020-01-27</td>\n",
       "      <td>counter service</td>\n",
       "      <td>ready-to-eat and prepackaged health food</td>\n",
       "      <td>ready-to-eat</td>\n",
       "      <td>organic oatmeal</td>\n",
       "      <td>sticker</td>\n",
       "      <td>use by</td>\n",
       "      <td>2020-01-28</td>\n",
       "      <td>6.25</td>\n",
       "      <td>IMG_1875</td>\n",
       "      <td>40.69453</td>\n",
       "      <td>-73.99447</td>\n",
       "      <td>NaN</td>\n",
       "    </tr>\n",
       "    <tr>\n",
       "      <th>4</th>\n",
       "      <td>5e31dd273b85a2e63d63418b</td>\n",
       "      <td>2020-01-27</td>\n",
       "      <td>counter service</td>\n",
       "      <td>ready-to-eat and prepackaged health food</td>\n",
       "      <td>ready-to-eat</td>\n",
       "      <td>organic mexican salad</td>\n",
       "      <td>sticker</td>\n",
       "      <td>use by</td>\n",
       "      <td>2020-01-28</td>\n",
       "      <td>10.00</td>\n",
       "      <td>IMG_1876</td>\n",
       "      <td>40.69453</td>\n",
       "      <td>-73.99447</td>\n",
       "      <td>NaN</td>\n",
       "    </tr>\n",
       "  </tbody>\n",
       "</table>\n",
       "</div>"
      ],
      "text/plain": [
       "                         id date_collected    retailer_type  \\\n",
       "0  5e31d5503b85a2e63d634187     2020-01-27  counter service   \n",
       "1  5e31d5643b85a2e63d634188     2020-01-27  counter service   \n",
       "2  5e31d8903b85a2e63d634189     2020-01-27  counter service   \n",
       "3  5e31dcee3b85a2e63d63418a     2020-01-27  counter service   \n",
       "4  5e31dd273b85a2e63d63418b     2020-01-27  counter service   \n",
       "\n",
       "                            retailer_detail     food_type  \\\n",
       "0  ready-to-eat and prepackaged health food  ready-to-eat   \n",
       "1  ready-to-eat and prepackaged health food  ready-to-eat   \n",
       "2  ready-to-eat and prepackaged health food  ready-to-eat   \n",
       "3  ready-to-eat and prepackaged health food  ready-to-eat   \n",
       "4  ready-to-eat and prepackaged health food  ready-to-eat   \n",
       "\n",
       "                    food_detail label_type label_language  label_date  \\\n",
       "0               organic oatmeal    sticker         use by  2020-01-28   \n",
       "1               organic oatmeal    sticker         use by  2020-01-28   \n",
       "2  organic middle eastern salad    sticker         use by  2020-01-28   \n",
       "3               organic oatmeal    sticker         use by  2020-01-28   \n",
       "4         organic mexican salad    sticker         use by  2020-01-28   \n",
       "\n",
       "   approximate_dollar_value  image_id  collection_lat  collection_long  \\\n",
       "0                      5.25  IMG_1872        40.69453        -73.99447   \n",
       "1                      5.25  IMG_1873        40.69453        -73.99447   \n",
       "2                     10.00  IMG_1874        40.69453        -73.99447   \n",
       "3                      6.25  IMG_1875        40.69453        -73.99447   \n",
       "4                     10.00  IMG_1876        40.69453        -73.99447   \n",
       "\n",
       "  label_explanation  \n",
       "0               NaN  \n",
       "1               NaN  \n",
       "2               NaN  \n",
       "3               NaN  \n",
       "4               NaN  "
      ]
     },
     "execution_count": 60,
     "metadata": {},
     "output_type": "execute_result"
    }
   ],
   "source": [
    "df.head()"
   ]
  },
  {
   "cell_type": "markdown",
   "id": "87c0ac02",
   "metadata": {},
   "source": [
    "#### First, calculating the difference between the date the trash was collected and the date it was supposed to be sold before/ expired, etc. \n",
    "This gives us a rough estimate of the ***number of days*** before the label date that the food was thrown out, assuming that the food was disposed somewhere near the collection date\n",
    "\n",
    "- A positive value means that the food was trashed <span style=\"color: red;\">before</span> the mentioned date on the label\n",
    "- A negative value means that it was thrown <span style=\"color: green;\">after</span> or somewhere near the mentioned date"
   ]
  },
  {
   "cell_type": "code",
   "execution_count": 61,
   "id": "2982d0ec",
   "metadata": {},
   "outputs": [],
   "source": [
    "# converting the required columns to datetime type first\n",
    "\n",
    "df['date_collected'] = pd.to_datetime(df['date_collected'], errors='coerce')"
   ]
  },
  {
   "cell_type": "code",
   "execution_count": 62,
   "id": "6cf6a05c",
   "metadata": {},
   "outputs": [],
   "source": [
    "df['label_date'] = pd.to_datetime(df['label_date'], errors='coerce')"
   ]
  },
  {
   "cell_type": "code",
   "execution_count": 63,
   "id": "73e0687b",
   "metadata": {},
   "outputs": [],
   "source": [
    "df = df[df['label_date'].notna()]"
   ]
  },
  {
   "cell_type": "code",
   "execution_count": 64,
   "id": "2ff5cfa4",
   "metadata": {},
   "outputs": [],
   "source": [
    "df['diff'] = df['label_date']-df['date_collected']"
   ]
  },
  {
   "cell_type": "code",
   "execution_count": 65,
   "id": "e3fcd481",
   "metadata": {},
   "outputs": [],
   "source": [
    "# removing outliers\n",
    "\n",
    "df = df[(df['diff'] > df['diff'].quantile(.05)) & (df['diff'] < df['diff'].quantile(0.95))]"
   ]
  },
  {
   "cell_type": "code",
   "execution_count": 66,
   "id": "50d00dee",
   "metadata": {},
   "outputs": [],
   "source": [
    "# a workaround for converting the datetime difference to int: [there seemed to be an erroneous entry]\n",
    "\n",
    "df['diff'] = df['diff'].astype('str').apply(lambda x: x.split(' ')[0]).astype('int')"
   ]
  },
  {
   "cell_type": "markdown",
   "id": "dd6841ea",
   "metadata": {},
   "source": [
    "## Label Language\n",
    "Calculating the number of the kinds of labels found, and calculating the average number of days before the food with that particular label on it was thrown out"
   ]
  },
  {
   "cell_type": "code",
   "execution_count": 67,
   "id": "da000402",
   "metadata": {},
   "outputs": [],
   "source": [
    "df_labels = df.groupby('label_language').agg({'id':'count', 'diff':'mean'})\n",
    "df_labels.columns = ['count','diff']"
   ]
  },
  {
   "cell_type": "markdown",
   "id": "090ef8c9",
   "metadata": {},
   "source": [
    "#### Taking the five labels that were encountered the most when collecting the waste"
   ]
  },
  {
   "cell_type": "code",
   "execution_count": 68,
   "id": "c18a7b1f",
   "metadata": {},
   "outputs": [
    {
     "data": {
      "text/html": [
       "<div>\n",
       "<style scoped>\n",
       "    .dataframe tbody tr th:only-of-type {\n",
       "        vertical-align: middle;\n",
       "    }\n",
       "\n",
       "    .dataframe tbody tr th {\n",
       "        vertical-align: top;\n",
       "    }\n",
       "\n",
       "    .dataframe thead th {\n",
       "        text-align: right;\n",
       "    }\n",
       "</style>\n",
       "<table border=\"1\" class=\"dataframe\">\n",
       "  <thead>\n",
       "    <tr style=\"text-align: right;\">\n",
       "      <th></th>\n",
       "      <th>count</th>\n",
       "      <th>diff</th>\n",
       "    </tr>\n",
       "    <tr>\n",
       "      <th>label_language</th>\n",
       "      <th></th>\n",
       "      <th></th>\n",
       "    </tr>\n",
       "  </thead>\n",
       "  <tbody>\n",
       "    <tr>\n",
       "      <th>sell by</th>\n",
       "      <td>31</td>\n",
       "      <td>0.903226</td>\n",
       "    </tr>\n",
       "    <tr>\n",
       "      <th>sell thru</th>\n",
       "      <td>25</td>\n",
       "      <td>-0.520000</td>\n",
       "    </tr>\n",
       "    <tr>\n",
       "      <th>exp</th>\n",
       "      <td>14</td>\n",
       "      <td>-1.428571</td>\n",
       "    </tr>\n",
       "    <tr>\n",
       "      <th>use by</th>\n",
       "      <td>14</td>\n",
       "      <td>0.214286</td>\n",
       "    </tr>\n",
       "    <tr>\n",
       "      <th>best if used by</th>\n",
       "      <td>5</td>\n",
       "      <td>-0.200000</td>\n",
       "    </tr>\n",
       "  </tbody>\n",
       "</table>\n",
       "</div>"
      ],
      "text/plain": [
       "                 count      diff\n",
       "label_language                  \n",
       "sell by             31  0.903226\n",
       "sell thru           25 -0.520000\n",
       "exp                 14 -1.428571\n",
       "use by              14  0.214286\n",
       "best if used by      5 -0.200000"
      ]
     },
     "execution_count": 68,
     "metadata": {},
     "output_type": "execute_result"
    }
   ],
   "source": [
    "df_labels.nlargest(5, 'count')"
   ]
  },
  {
   "cell_type": "code",
   "execution_count": 69,
   "id": "8108d575",
   "metadata": {},
   "outputs": [
    {
     "data": {
      "text/plain": [
       "<AxesSubplot:xlabel='label_language'>"
      ]
     },
     "execution_count": 69,
     "metadata": {},
     "output_type": "execute_result"
    },
    {
     "data": {
      "image/png": "[encoded data removed]",
      "text/plain": [
       "<Figure size 432x288 with 1 Axes>"
      ]
     },
     "metadata": {
      "needs_background": "light"
     },
     "output_type": "display_data"
    }
   ],
   "source": [
    "df_labels.nlargest(5, 'count').plot.bar(y='diff')"
   ]
  },
  {
   "cell_type": "markdown",
   "id": "8b15e1c8",
   "metadata": {},
   "source": [
    "Through the data, it seems that words on the label like 'sell by', 'use by' lead to the product being thrown out quicker, and other words like 'best if used by' seems to lead the product being thrown out later(after or near) the mentioned date.\n",
    "**I believe, however, that this conjecture can be made more reliable with more data.**"
   ]
  },
  {
   "cell_type": "markdown",
   "id": "44c65c9f",
   "metadata": {},
   "source": [
    "## Retailer Type & Food Type"
   ]
  },
  {
   "cell_type": "markdown",
   "id": "fdca58e7",
   "metadata": {},
   "source": [
    "#### Calculating the average difference in the days for each retailer type"
   ]
  },
  {
   "cell_type": "code",
   "execution_count": 70,
   "id": "b0b834f8",
   "metadata": {
    "scrolled": false
   },
   "outputs": [
    {
     "data": {
      "text/plain": [
       "<AxesSubplot:xlabel='retailer_type'>"
      ]
     },
     "execution_count": 70,
     "metadata": {},
     "output_type": "execute_result"
    },
    {
     "data": {
      "image/png": "[encoded data removed]",
      "text/plain": [
       "<Figure size 432x288 with 1 Axes>"
      ]
     },
     "metadata": {
      "needs_background": "light"
     },
     "output_type": "display_data"
    }
   ],
   "source": [
    "df.groupby('retailer_type')['diff'].mean().plot(kind='bar')"
   ]
  },
  {
   "cell_type": "markdown",
   "id": "2581d5de",
   "metadata": {},
   "source": [
    "Items from the ***health food grocer*** and ***drugstore*** seem to be thrown out way before they are supposed to"
   ]
  },
  {
   "cell_type": "markdown",
   "id": "72488872",
   "metadata": {},
   "source": [
    "We have a lot more waste from the drugstore, chain grocer, bakery, and the health food grocer in general"
   ]
  },
  {
   "cell_type": "code",
   "execution_count": 71,
   "id": "795f9274",
   "metadata": {},
   "outputs": [
    {
     "data": {
      "text/html": [
       "<div>\n",
       "<style scoped>\n",
       "    .dataframe tbody tr th:only-of-type {\n",
       "        vertical-align: middle;\n",
       "    }\n",
       "\n",
       "    .dataframe tbody tr th {\n",
       "        vertical-align: top;\n",
       "    }\n",
       "\n",
       "    .dataframe thead th {\n",
       "        text-align: right;\n",
       "    }\n",
       "</style>\n",
       "<table border=\"1\" class=\"dataframe\">\n",
       "  <thead>\n",
       "    <tr style=\"text-align: right;\">\n",
       "      <th></th>\n",
       "      <th>id</th>\n",
       "    </tr>\n",
       "    <tr>\n",
       "      <th>retailer_type</th>\n",
       "      <th></th>\n",
       "    </tr>\n",
       "  </thead>\n",
       "  <tbody>\n",
       "    <tr>\n",
       "      <th>drugstore</th>\n",
       "      <td>39</td>\n",
       "    </tr>\n",
       "    <tr>\n",
       "      <th>chain grocer</th>\n",
       "      <td>34</td>\n",
       "    </tr>\n",
       "    <tr>\n",
       "      <th>bakery/deli</th>\n",
       "      <td>31</td>\n",
       "    </tr>\n",
       "    <tr>\n",
       "      <th>health food grocer</th>\n",
       "      <td>30</td>\n",
       "    </tr>\n",
       "    <tr>\n",
       "      <th>counter service</th>\n",
       "      <td>9</td>\n",
       "    </tr>\n",
       "    <tr>\n",
       "      <th>coffeeshop</th>\n",
       "      <td>2</td>\n",
       "    </tr>\n",
       "  </tbody>\n",
       "</table>\n",
       "</div>"
      ],
      "text/plain": [
       "                    id\n",
       "retailer_type         \n",
       "drugstore           39\n",
       "chain grocer        34\n",
       "bakery/deli         31\n",
       "health food grocer  30\n",
       "counter service      9\n",
       "coffeeshop           2"
      ]
     },
     "execution_count": 71,
     "metadata": {},
     "output_type": "execute_result"
    }
   ],
   "source": [
    "df.groupby('retailer_type').count().id.to_frame().sort_values(by='id', ascending=False)"
   ]
  },
  {
   "cell_type": "markdown",
   "id": "8ea92222",
   "metadata": {},
   "source": [
    "From the items being thrown out early from these stores, most of them are perishable as seen in the data below. Perishable food can be hazardous after a certain time, so it is understandable why people would want to throw them out. However, determining the time by looking at the label date isn't always the best idea because [\"they aren’t usually about food safety.\"](https://health.clevelandclinic.org/trash-it-or-eat-it-the-truth-about-expiration-dates/)"
   ]
  },
  {
   "cell_type": "code",
   "execution_count": 72,
   "id": "209eea13",
   "metadata": {},
   "outputs": [
    {
     "data": {
      "text/plain": [
       "perishable    30\n",
       "Name: food_type, dtype: int64"
      ]
     },
     "execution_count": 72,
     "metadata": {},
     "output_type": "execute_result"
    }
   ],
   "source": [
    "df[df['retailer_type']=='health food grocer']['food_type'].value_counts()"
   ]
  },
  {
   "cell_type": "code",
   "execution_count": 73,
   "id": "356b9297",
   "metadata": {},
   "outputs": [
    {
     "data": {
      "text/plain": [
       "perishable      23\n",
       "ready-to-eat    10\n",
       "packaged         6\n",
       "Name: food_type, dtype: int64"
      ]
     },
     "execution_count": 73,
     "metadata": {},
     "output_type": "execute_result"
    }
   ],
   "source": [
    "df[df['retailer_type']=='drugstore']['food_type'].value_counts()"
   ]
  },
  {
   "cell_type": "markdown",
   "id": "22caefdb",
   "metadata": {},
   "source": [
    "#### This graph shows a trend of perishable food being thrown out earlier than other kinds of food in general"
   ]
  },
  {
   "cell_type": "code",
   "execution_count": 74,
   "id": "745de5b9",
   "metadata": {},
   "outputs": [
    {
     "data": {
      "text/plain": [
       "<AxesSubplot:xlabel='food_type'>"
      ]
     },
     "execution_count": 74,
     "metadata": {},
     "output_type": "execute_result"
    },
    {
     "data": {
      "image/png": "[encoded data removed]",
      "text/plain": [
       "<Figure size 432x288 with 1 Axes>"
      ]
     },
     "metadata": {
      "needs_background": "light"
     },
     "output_type": "display_data"
    }
   ],
   "source": [
    "df.groupby('food_type')['id'].count().plot(kind='bar')"
   ]
  },
  {
   "cell_type": "markdown",
   "id": "48943eb2",
   "metadata": {},
   "source": [
    "#### Certain food items are disposed more in the area and before they are supposed to be thrown out"
   ]
  },
  {
   "cell_type": "code",
   "execution_count": 75,
   "id": "6d306013",
   "metadata": {},
   "outputs": [],
   "source": [
    "df_food = df.groupby('food_detail').agg({'id':'count', 'diff':'mean'}).sort_values(by='id', ascending=False).head(10).reset_index()"
   ]
  },
  {
   "cell_type": "code",
   "execution_count": 76,
   "id": "a5c2cfc8",
   "metadata": {},
   "outputs": [],
   "source": [
    "df_food.columns = ['food_detail','count','diff']"
   ]
  },
  {
   "cell_type": "code",
   "execution_count": 77,
   "id": "4a4082be",
   "metadata": {},
   "outputs": [
    {
     "data": {
      "text/html": [
       "<div>\n",
       "<style scoped>\n",
       "    .dataframe tbody tr th:only-of-type {\n",
       "        vertical-align: middle;\n",
       "    }\n",
       "\n",
       "    .dataframe tbody tr th {\n",
       "        vertical-align: top;\n",
       "    }\n",
       "\n",
       "    .dataframe thead th {\n",
       "        text-align: right;\n",
       "    }\n",
       "</style>\n",
       "<table border=\"1\" class=\"dataframe\">\n",
       "  <thead>\n",
       "    <tr style=\"text-align: right;\">\n",
       "      <th></th>\n",
       "      <th>food_detail</th>\n",
       "      <th>count</th>\n",
       "      <th>diff</th>\n",
       "    </tr>\n",
       "  </thead>\n",
       "  <tbody>\n",
       "    <tr>\n",
       "      <th>0</th>\n",
       "      <td>yogurt</td>\n",
       "      <td>17</td>\n",
       "      <td>1.882353</td>\n",
       "    </tr>\n",
       "    <tr>\n",
       "      <th>1</th>\n",
       "      <td>flatbread pepperoni pizza</td>\n",
       "      <td>7</td>\n",
       "      <td>0.000000</td>\n",
       "    </tr>\n",
       "    <tr>\n",
       "      <th>2</th>\n",
       "      <td>honey turkey and swiss wrap</td>\n",
       "      <td>7</td>\n",
       "      <td>-2.714286</td>\n",
       "    </tr>\n",
       "    <tr>\n",
       "      <th>3</th>\n",
       "      <td>pasteurized grade a goat milk</td>\n",
       "      <td>5</td>\n",
       "      <td>3.000000</td>\n",
       "    </tr>\n",
       "    <tr>\n",
       "      <th>4</th>\n",
       "      <td>mixed fruit cup</td>\n",
       "      <td>5</td>\n",
       "      <td>-0.200000</td>\n",
       "    </tr>\n",
       "    <tr>\n",
       "      <th>5</th>\n",
       "      <td>red velvet cake slice</td>\n",
       "      <td>4</td>\n",
       "      <td>3.500000</td>\n",
       "    </tr>\n",
       "    <tr>\n",
       "      <th>6</th>\n",
       "      <td>organic riced cauliflower</td>\n",
       "      <td>4</td>\n",
       "      <td>-1.000000</td>\n",
       "    </tr>\n",
       "    <tr>\n",
       "      <th>7</th>\n",
       "      <td>organic energy bar</td>\n",
       "      <td>4</td>\n",
       "      <td>3.000000</td>\n",
       "    </tr>\n",
       "    <tr>\n",
       "      <th>8</th>\n",
       "      <td>california roll sushi</td>\n",
       "      <td>4</td>\n",
       "      <td>-1.000000</td>\n",
       "    </tr>\n",
       "    <tr>\n",
       "      <th>9</th>\n",
       "      <td>chocolate cake</td>\n",
       "      <td>3</td>\n",
       "      <td>1.000000</td>\n",
       "    </tr>\n",
       "  </tbody>\n",
       "</table>\n",
       "</div>"
      ],
      "text/plain": [
       "                     food_detail  count      diff\n",
       "0                         yogurt     17  1.882353\n",
       "1      flatbread pepperoni pizza      7  0.000000\n",
       "2    honey turkey and swiss wrap      7 -2.714286\n",
       "3  pasteurized grade a goat milk      5  3.000000\n",
       "4                mixed fruit cup      5 -0.200000\n",
       "5          red velvet cake slice      4  3.500000\n",
       "6      organic riced cauliflower      4 -1.000000\n",
       "7             organic energy bar      4  3.000000\n",
       "8          california roll sushi      4 -1.000000\n",
       "9                 chocolate cake      3  1.000000"
      ]
     },
     "execution_count": 77,
     "metadata": {},
     "output_type": "execute_result"
    }
   ],
   "source": [
    "df_food"
   ]
  },
  {
   "cell_type": "markdown",
   "id": "27ed1a41",
   "metadata": {},
   "source": [
    "#### Dairy and bakery items like yogurt, goat milk, and cakes seem to be trashed early"
   ]
  },
  {
   "cell_type": "code",
   "execution_count": 78,
   "id": "e1fc5089",
   "metadata": {
    "scrolled": false
   },
   "outputs": [
    {
     "data": {
      "text/plain": [
       "<AxesSubplot:xlabel='food_detail'>"
      ]
     },
     "execution_count": 78,
     "metadata": {},
     "output_type": "execute_result"
    },
    {
     "data": {
      "image/png": "[encoded data removed]",
      "text/plain": [
       "<Figure size 432x288 with 1 Axes>"
      ]
     },
     "metadata": {
      "needs_background": "light"
     },
     "output_type": "display_data"
    }
   ],
   "source": [
    "df_food.sort_values(by='diff').plot.bar(x='food_detail',y='diff')"
   ]
  },
  {
   "cell_type": "markdown",
   "id": "fcc6892b",
   "metadata": {},
   "source": [
    "Let's see if the same kind of items are sold in different stores, and if they have different properties"
   ]
  },
  {
   "cell_type": "code",
   "execution_count": 79,
   "id": "532c22af",
   "metadata": {},
   "outputs": [],
   "source": [
    "df_r = df.groupby(['retailer_type', 'food_detail'])['diff'].mean().to_frame().reset_index()\n",
    "#"
   ]
  },
  {
   "cell_type": "code",
   "execution_count": 80,
   "id": "aab099de",
   "metadata": {},
   "outputs": [],
   "source": [
    "# Getting items that are sold in different retailers\n",
    "\n",
    "dup = df_r[df_r['food_detail'].duplicated()]"
   ]
  },
  {
   "cell_type": "markdown",
   "id": "402ca34a",
   "metadata": {},
   "source": [
    "Getting all the duplicate values and arranging them"
   ]
  },
  {
   "cell_type": "code",
   "execution_count": 81,
   "id": "d2880ef7",
   "metadata": {},
   "outputs": [],
   "source": [
    "df_duplicates = df[df['food_detail'].apply(lambda x: x in dup['food_detail'].to_list())]"
   ]
  },
  {
   "cell_type": "code",
   "execution_count": 82,
   "id": "515e9485",
   "metadata": {},
   "outputs": [
    {
     "data": {
      "text/html": [
       "<div>\n",
       "<style scoped>\n",
       "    .dataframe tbody tr th:only-of-type {\n",
       "        vertical-align: middle;\n",
       "    }\n",
       "\n",
       "    .dataframe tbody tr th {\n",
       "        vertical-align: top;\n",
       "    }\n",
       "\n",
       "    .dataframe thead th {\n",
       "        text-align: right;\n",
       "    }\n",
       "</style>\n",
       "<table border=\"1\" class=\"dataframe\">\n",
       "  <thead>\n",
       "    <tr style=\"text-align: right;\">\n",
       "      <th></th>\n",
       "      <th></th>\n",
       "      <th>diff</th>\n",
       "      <th>count</th>\n",
       "    </tr>\n",
       "    <tr>\n",
       "      <th>retailer_type</th>\n",
       "      <th>food_detail</th>\n",
       "      <th></th>\n",
       "      <th></th>\n",
       "    </tr>\n",
       "  </thead>\n",
       "  <tbody>\n",
       "    <tr>\n",
       "      <th>bakery/deli</th>\n",
       "      <th>cut cantaloupe</th>\n",
       "      <td>-2.000000</td>\n",
       "      <td>1</td>\n",
       "    </tr>\n",
       "    <tr>\n",
       "      <th>chain grocer</th>\n",
       "      <th>cut cantaloupe</th>\n",
       "      <td>0.000000</td>\n",
       "      <td>2</td>\n",
       "    </tr>\n",
       "    <tr>\n",
       "      <th>drugstore</th>\n",
       "      <th>yogurt</th>\n",
       "      <td>2.133333</td>\n",
       "      <td>15</td>\n",
       "    </tr>\n",
       "    <tr>\n",
       "      <th>health food grocer</th>\n",
       "      <th>yogurt</th>\n",
       "      <td>0.000000</td>\n",
       "      <td>2</td>\n",
       "    </tr>\n",
       "  </tbody>\n",
       "</table>\n",
       "</div>"
      ],
      "text/plain": [
       "                                       diff  count\n",
       "retailer_type      food_detail                    \n",
       "bakery/deli        cut cantaloupe -2.000000      1\n",
       "chain grocer       cut cantaloupe  0.000000      2\n",
       "drugstore          yogurt          2.133333     15\n",
       "health food grocer yogurt          0.000000      2"
      ]
     },
     "execution_count": 82,
     "metadata": {},
     "output_type": "execute_result"
    }
   ],
   "source": [
    "df_duplicates = df_duplicates.groupby(['retailer_type', 'food_detail']).agg({'diff':'mean','id':'count'})\n",
    "df_duplicates.columns = ['diff','count']\n",
    "df_duplicates.head()"
   ]
  },
  {
   "cell_type": "markdown",
   "id": "303d7d9a",
   "metadata": {},
   "source": [
    "From the data above, it shows that the drugstore yogurt was found in significantly higher amount in the trash piles.\n",
    "Moreover, the drugstore yogurt seems to be thrown out earlier than the yogurt from the health food grocer."
   ]
  },
  {
   "cell_type": "markdown",
   "id": "914493b8",
   "metadata": {},
   "source": [
    "## Organic Food Type"
   ]
  },
  {
   "cell_type": "code",
   "execution_count": 83,
   "id": "ab285910",
   "metadata": {},
   "outputs": [],
   "source": [
    "df['organic'] = df['food_detail'].apply(lambda x: ('organic' in x)*1)"
   ]
  },
  {
   "cell_type": "markdown",
   "id": "07950c62",
   "metadata": {},
   "source": [
    "A lot of the food items that were thrown out seemed to have the word **organic**: 121 to be precise"
   ]
  },
  {
   "cell_type": "code",
   "execution_count": 84,
   "id": "a34dae0c",
   "metadata": {},
   "outputs": [
    {
     "data": {
      "text/plain": [
       "organic\n",
       "0    454\n",
       "1    121\n",
       "Name: diff, dtype: int32"
      ]
     },
     "execution_count": 84,
     "metadata": {},
     "output_type": "execute_result"
    }
   ],
   "source": [
    "df.groupby('organic')['diff'].sum()"
   ]
  },
  {
   "cell_type": "markdown",
   "id": "918bf6c5",
   "metadata": {},
   "source": [
    "In general, organic food items seem to be thrown out **earlier** than other food items"
   ]
  },
  {
   "cell_type": "code",
   "execution_count": 85,
   "id": "66717f61",
   "metadata": {},
   "outputs": [
    {
     "data": {
      "text/plain": [
       "organic\n",
       "0    3.752066\n",
       "1    5.041667\n",
       "Name: diff, dtype: float64"
      ]
     },
     "execution_count": 85,
     "metadata": {},
     "output_type": "execute_result"
    }
   ],
   "source": [
    "df.groupby('organic')['diff'].mean()"
   ]
  },
  {
   "cell_type": "markdown",
   "id": "d69661ab",
   "metadata": {},
   "source": [
    "## Linear Regression Model"
   ]
  },
  {
   "cell_type": "markdown",
   "id": "e0f42c21",
   "metadata": {},
   "source": [
    "Let's make a machine learning model to predict how many days before or after the expiration date, a product would be thrown out."
   ]
  },
  {
   "cell_type": "code",
   "execution_count": 102,
   "id": "07be85a4",
   "metadata": {},
   "outputs": [],
   "source": [
    "from sklearn import preprocessing, svm\n",
    "from sklearn.model_selection import train_test_split\n",
    "from sklearn.linear_model import LinearRegression"
   ]
  },
  {
   "cell_type": "markdown",
   "id": "4954b0f6",
   "metadata": {},
   "source": [
    "Removing all the columns that we won't use as features:"
   ]
  },
  {
   "cell_type": "code",
   "execution_count": 242,
   "id": "1573a9e0",
   "metadata": {},
   "outputs": [
    {
     "data": {
      "text/html": [
       "<div>\n",
       "<style scoped>\n",
       "    .dataframe tbody tr th:only-of-type {\n",
       "        vertical-align: middle;\n",
       "    }\n",
       "\n",
       "    .dataframe tbody tr th {\n",
       "        vertical-align: top;\n",
       "    }\n",
       "\n",
       "    .dataframe thead th {\n",
       "        text-align: right;\n",
       "    }\n",
       "</style>\n",
       "<table border=\"1\" class=\"dataframe\">\n",
       "  <thead>\n",
       "    <tr style=\"text-align: right;\">\n",
       "      <th></th>\n",
       "      <th>retailer_type</th>\n",
       "      <th>retailer_detail</th>\n",
       "      <th>food_type</th>\n",
       "      <th>label_language</th>\n",
       "      <th>approximate_dollar_value</th>\n",
       "      <th>diff</th>\n",
       "      <th>organic</th>\n",
       "    </tr>\n",
       "  </thead>\n",
       "  <tbody>\n",
       "    <tr>\n",
       "      <th>0</th>\n",
       "      <td>counter service</td>\n",
       "      <td>ready-to-eat and prepackaged health food</td>\n",
       "      <td>ready-to-eat</td>\n",
       "      <td>use by</td>\n",
       "      <td>5.25</td>\n",
       "      <td>1</td>\n",
       "      <td>1</td>\n",
       "    </tr>\n",
       "    <tr>\n",
       "      <th>1</th>\n",
       "      <td>counter service</td>\n",
       "      <td>ready-to-eat and prepackaged health food</td>\n",
       "      <td>ready-to-eat</td>\n",
       "      <td>use by</td>\n",
       "      <td>5.25</td>\n",
       "      <td>1</td>\n",
       "      <td>1</td>\n",
       "    </tr>\n",
       "    <tr>\n",
       "      <th>2</th>\n",
       "      <td>counter service</td>\n",
       "      <td>ready-to-eat and prepackaged health food</td>\n",
       "      <td>ready-to-eat</td>\n",
       "      <td>use by</td>\n",
       "      <td>10.00</td>\n",
       "      <td>1</td>\n",
       "      <td>1</td>\n",
       "    </tr>\n",
       "    <tr>\n",
       "      <th>3</th>\n",
       "      <td>counter service</td>\n",
       "      <td>ready-to-eat and prepackaged health food</td>\n",
       "      <td>ready-to-eat</td>\n",
       "      <td>use by</td>\n",
       "      <td>6.25</td>\n",
       "      <td>1</td>\n",
       "      <td>1</td>\n",
       "    </tr>\n",
       "    <tr>\n",
       "      <th>4</th>\n",
       "      <td>counter service</td>\n",
       "      <td>ready-to-eat and prepackaged health food</td>\n",
       "      <td>ready-to-eat</td>\n",
       "      <td>use by</td>\n",
       "      <td>10.00</td>\n",
       "      <td>1</td>\n",
       "      <td>1</td>\n",
       "    </tr>\n",
       "  </tbody>\n",
       "</table>\n",
       "</div>"
      ],
      "text/plain": [
       "     retailer_type                           retailer_detail     food_type  \\\n",
       "0  counter service  ready-to-eat and prepackaged health food  ready-to-eat   \n",
       "1  counter service  ready-to-eat and prepackaged health food  ready-to-eat   \n",
       "2  counter service  ready-to-eat and prepackaged health food  ready-to-eat   \n",
       "3  counter service  ready-to-eat and prepackaged health food  ready-to-eat   \n",
       "4  counter service  ready-to-eat and prepackaged health food  ready-to-eat   \n",
       "\n",
       "  label_language  approximate_dollar_value  diff  organic  \n",
       "0         use by                      5.25     1        1  \n",
       "1         use by                      5.25     1        1  \n",
       "2         use by                     10.00     1        1  \n",
       "3         use by                      6.25     1        1  \n",
       "4         use by                     10.00     1        1  "
      ]
     },
     "execution_count": 242,
     "metadata": {},
     "output_type": "execute_result"
    }
   ],
   "source": [
    "df_encoded = df.copy()\n",
    "df_encoded.drop(['id', 'date_collected', 'label_date', 'image_id', 'label_explanation','label_type','collection_lat','collection_long','food_detail'], inplace=True, axis=1)\n",
    "df_encoded.head()"
   ]
  },
  {
   "cell_type": "markdown",
   "id": "fdc12d44",
   "metadata": {},
   "source": [
    "We decide to use **One Hot Encoding** to encode our values for the model because it seems to give far more accurate predictions than manual label encoding in our case."
   ]
  },
  {
   "cell_type": "code",
   "execution_count": 243,
   "id": "b26a2f3c",
   "metadata": {},
   "outputs": [
    {
     "data": {
      "text/html": [
       "<div>\n",
       "<style scoped>\n",
       "    .dataframe tbody tr th:only-of-type {\n",
       "        vertical-align: middle;\n",
       "    }\n",
       "\n",
       "    .dataframe tbody tr th {\n",
       "        vertical-align: top;\n",
       "    }\n",
       "\n",
       "    .dataframe thead th {\n",
       "        text-align: right;\n",
       "    }\n",
       "</style>\n",
       "<table border=\"1\" class=\"dataframe\">\n",
       "  <thead>\n",
       "    <tr style=\"text-align: right;\">\n",
       "      <th></th>\n",
       "      <th>approximate_dollar_value</th>\n",
       "      <th>diff</th>\n",
       "      <th>organic</th>\n",
       "      <th>label_language_12619</th>\n",
       "      <th>label_language_bb</th>\n",
       "      <th>label_language_best by</th>\n",
       "      <th>label_language_best if used by</th>\n",
       "      <th>label_language_enjoy by</th>\n",
       "      <th>label_language_exp</th>\n",
       "      <th>label_language_expires</th>\n",
       "      <th>...</th>\n",
       "      <th>retailer_type_drugstore</th>\n",
       "      <th>retailer_type_health food grocer</th>\n",
       "      <th>retailer_detail_ready-to-eat and prepackaged food</th>\n",
       "      <th>retailer_detail_ready-to-eat and prepackaged health food</th>\n",
       "      <th>retailer_detail_ready-to-eat, shelf-stable, and frozen food</th>\n",
       "      <th>retailer_detail_ready-to-eat, shelf-stable, frozen, and perishable food</th>\n",
       "      <th>retailer_detail_ready-to-eat, shelf-stable, frozen, and perishable health food</th>\n",
       "      <th>food_type_packaged</th>\n",
       "      <th>food_type_perishable</th>\n",
       "      <th>food_type_ready-to-eat</th>\n",
       "    </tr>\n",
       "  </thead>\n",
       "  <tbody>\n",
       "    <tr>\n",
       "      <th>0</th>\n",
       "      <td>5.25</td>\n",
       "      <td>1</td>\n",
       "      <td>1</td>\n",
       "      <td>0</td>\n",
       "      <td>0</td>\n",
       "      <td>0</td>\n",
       "      <td>0</td>\n",
       "      <td>0</td>\n",
       "      <td>0</td>\n",
       "      <td>0</td>\n",
       "      <td>...</td>\n",
       "      <td>0</td>\n",
       "      <td>0</td>\n",
       "      <td>0</td>\n",
       "      <td>1</td>\n",
       "      <td>0</td>\n",
       "      <td>0</td>\n",
       "      <td>0</td>\n",
       "      <td>0</td>\n",
       "      <td>0</td>\n",
       "      <td>1</td>\n",
       "    </tr>\n",
       "    <tr>\n",
       "      <th>1</th>\n",
       "      <td>5.25</td>\n",
       "      <td>1</td>\n",
       "      <td>1</td>\n",
       "      <td>0</td>\n",
       "      <td>0</td>\n",
       "      <td>0</td>\n",
       "      <td>0</td>\n",
       "      <td>0</td>\n",
       "      <td>0</td>\n",
       "      <td>0</td>\n",
       "      <td>...</td>\n",
       "      <td>0</td>\n",
       "      <td>0</td>\n",
       "      <td>0</td>\n",
       "      <td>1</td>\n",
       "      <td>0</td>\n",
       "      <td>0</td>\n",
       "      <td>0</td>\n",
       "      <td>0</td>\n",
       "      <td>0</td>\n",
       "      <td>1</td>\n",
       "    </tr>\n",
       "    <tr>\n",
       "      <th>2</th>\n",
       "      <td>10.00</td>\n",
       "      <td>1</td>\n",
       "      <td>1</td>\n",
       "      <td>0</td>\n",
       "      <td>0</td>\n",
       "      <td>0</td>\n",
       "      <td>0</td>\n",
       "      <td>0</td>\n",
       "      <td>0</td>\n",
       "      <td>0</td>\n",
       "      <td>...</td>\n",
       "      <td>0</td>\n",
       "      <td>0</td>\n",
       "      <td>0</td>\n",
       "      <td>1</td>\n",
       "      <td>0</td>\n",
       "      <td>0</td>\n",
       "      <td>0</td>\n",
       "      <td>0</td>\n",
       "      <td>0</td>\n",
       "      <td>1</td>\n",
       "    </tr>\n",
       "    <tr>\n",
       "      <th>3</th>\n",
       "      <td>6.25</td>\n",
       "      <td>1</td>\n",
       "      <td>1</td>\n",
       "      <td>0</td>\n",
       "      <td>0</td>\n",
       "      <td>0</td>\n",
       "      <td>0</td>\n",
       "      <td>0</td>\n",
       "      <td>0</td>\n",
       "      <td>0</td>\n",
       "      <td>...</td>\n",
       "      <td>0</td>\n",
       "      <td>0</td>\n",
       "      <td>0</td>\n",
       "      <td>1</td>\n",
       "      <td>0</td>\n",
       "      <td>0</td>\n",
       "      <td>0</td>\n",
       "      <td>0</td>\n",
       "      <td>0</td>\n",
       "      <td>1</td>\n",
       "    </tr>\n",
       "    <tr>\n",
       "      <th>4</th>\n",
       "      <td>10.00</td>\n",
       "      <td>1</td>\n",
       "      <td>1</td>\n",
       "      <td>0</td>\n",
       "      <td>0</td>\n",
       "      <td>0</td>\n",
       "      <td>0</td>\n",
       "      <td>0</td>\n",
       "      <td>0</td>\n",
       "      <td>0</td>\n",
       "      <td>...</td>\n",
       "      <td>0</td>\n",
       "      <td>0</td>\n",
       "      <td>0</td>\n",
       "      <td>1</td>\n",
       "      <td>0</td>\n",
       "      <td>0</td>\n",
       "      <td>0</td>\n",
       "      <td>0</td>\n",
       "      <td>0</td>\n",
       "      <td>1</td>\n",
       "    </tr>\n",
       "  </tbody>\n",
       "</table>\n",
       "<p>5 rows × 30 columns</p>\n",
       "</div>"
      ],
      "text/plain": [
       "   approximate_dollar_value  diff  organic  label_language_12619  \\\n",
       "0                      5.25     1        1                     0   \n",
       "1                      5.25     1        1                     0   \n",
       "2                     10.00     1        1                     0   \n",
       "3                      6.25     1        1                     0   \n",
       "4                     10.00     1        1                     0   \n",
       "\n",
       "   label_language_bb  label_language_best by  label_language_best if used by  \\\n",
       "0                  0                       0                               0   \n",
       "1                  0                       0                               0   \n",
       "2                  0                       0                               0   \n",
       "3                  0                       0                               0   \n",
       "4                  0                       0                               0   \n",
       "\n",
       "   label_language_enjoy by  label_language_exp  label_language_expires  ...  \\\n",
       "0                        0                   0                       0  ...   \n",
       "1                        0                   0                       0  ...   \n",
       "2                        0                   0                       0  ...   \n",
       "3                        0                   0                       0  ...   \n",
       "4                        0                   0                       0  ...   \n",
       "\n",
       "   retailer_type_drugstore  retailer_type_health food grocer  \\\n",
       "0                        0                                 0   \n",
       "1                        0                                 0   \n",
       "2                        0                                 0   \n",
       "3                        0                                 0   \n",
       "4                        0                                 0   \n",
       "\n",
       "   retailer_detail_ready-to-eat and prepackaged food  \\\n",
       "0                                                  0   \n",
       "1                                                  0   \n",
       "2                                                  0   \n",
       "3                                                  0   \n",
       "4                                                  0   \n",
       "\n",
       "   retailer_detail_ready-to-eat and prepackaged health food  \\\n",
       "0                                                  1          \n",
       "1                                                  1          \n",
       "2                                                  1          \n",
       "3                                                  1          \n",
       "4                                                  1          \n",
       "\n",
       "   retailer_detail_ready-to-eat, shelf-stable, and frozen food  \\\n",
       "0                                                  0             \n",
       "1                                                  0             \n",
       "2                                                  0             \n",
       "3                                                  0             \n",
       "4                                                  0             \n",
       "\n",
       "   retailer_detail_ready-to-eat, shelf-stable, frozen, and perishable food  \\\n",
       "0                                                  0                         \n",
       "1                                                  0                         \n",
       "2                                                  0                         \n",
       "3                                                  0                         \n",
       "4                                                  0                         \n",
       "\n",
       "   retailer_detail_ready-to-eat, shelf-stable, frozen, and perishable health food  \\\n",
       "0                                                  0                                \n",
       "1                                                  0                                \n",
       "2                                                  0                                \n",
       "3                                                  0                                \n",
       "4                                                  0                                \n",
       "\n",
       "   food_type_packaged  food_type_perishable  food_type_ready-to-eat  \n",
       "0                   0                     0                       1  \n",
       "1                   0                     0                       1  \n",
       "2                   0                     0                       1  \n",
       "3                   0                     0                       1  \n",
       "4                   0                     0                       1  \n",
       "\n",
       "[5 rows x 30 columns]"
      ]
     },
     "execution_count": 243,
     "metadata": {},
     "output_type": "execute_result"
    }
   ],
   "source": [
    "df_encoded = pd.get_dummies(df_encoded, columns=[\"label_language\",\"retailer_type\",\"retailer_detail\",\"food_type\"])\n",
    "df_encoded.head()"
   ]
  },
  {
   "cell_type": "markdown",
   "id": "369e1c3c",
   "metadata": {},
   "source": [
    "Manual Label Encoding:"
   ]
  },
  {
   "cell_type": "code",
   "execution_count": 244,
   "id": "a96c6484",
   "metadata": {},
   "outputs": [],
   "source": [
    "# for col in ['retailer_type', 'retailer_detail', 'food_type', 'label_language']:\n",
    "#     df_encoded[col] = df[col].astype('category').cat.codes\n",
    "\n",
    "# df_encoded.head()"
   ]
  },
  {
   "cell_type": "markdown",
   "id": "267becfa",
   "metadata": {},
   "source": [
    "**Training and Testing Data**"
   ]
  },
  {
   "cell_type": "code",
   "execution_count": 245,
   "id": "179c389c",
   "metadata": {},
   "outputs": [],
   "source": [
    "y = df_encoded['diff']\n",
    "X = df_encoded.drop('diff', axis=1)"
   ]
  },
  {
   "cell_type": "code",
   "execution_count": 246,
   "id": "34a0f4a4",
   "metadata": {},
   "outputs": [],
   "source": [
    "X_train, X_test, y_train, y_test = train_test_split(X, y, test_size=0.3, random_state=101)"
   ]
  },
  {
   "cell_type": "code",
   "execution_count": 247,
   "id": "7c5038ed",
   "metadata": {},
   "outputs": [],
   "source": [
    "lm = LinearRegression()"
   ]
  },
  {
   "cell_type": "code",
   "execution_count": 249,
   "id": "f0580991",
   "metadata": {},
   "outputs": [
    {
     "data": {
      "text/plain": [
       "LinearRegression()"
      ]
     },
     "execution_count": 249,
     "metadata": {},
     "output_type": "execute_result"
    }
   ],
   "source": [
    "lm.fit(X_train,y_train)"
   ]
  },
  {
   "cell_type": "code",
   "execution_count": 250,
   "id": "8df94175",
   "metadata": {},
   "outputs": [],
   "source": [
    "predictions = lm.predict( X_test)"
   ]
  },
  {
   "cell_type": "markdown",
   "id": "76fbc71d",
   "metadata": {},
   "source": [
    "**Predicting Test Data**"
   ]
  },
  {
   "cell_type": "code",
   "execution_count": 251,
   "id": "69046b41",
   "metadata": {},
   "outputs": [
    {
     "data": {
      "text/plain": [
       "Text(0, 0.5, 'Predicted Y')"
      ]
     },
     "execution_count": 251,
     "metadata": {},
     "output_type": "execute_result"
    },
    {
     "data": {
      "image/png": "[encoded data removed]",
      "text/plain": [
       "<Figure size 432x288 with 1 Axes>"
      ]
     },
     "metadata": {
      "needs_background": "light"
     },
     "output_type": "display_data"
    }
   ],
   "source": [
    "plt.scatter(y_test,predictions)\n",
    "plt.xlabel('Y Test')\n",
    "plt.ylabel('Predicted Y')"
   ]
  },
  {
   "cell_type": "markdown",
   "id": "75af1315",
   "metadata": {},
   "source": [
    "**Plotting a histogram of the residuals**"
   ]
  },
  {
   "cell_type": "code",
   "execution_count": 258,
   "id": "f2ae10dd",
   "metadata": {},
   "outputs": [
    {
     "data": {
      "text/plain": [
       "<seaborn.axisgrid.FacetGrid at 0x13aad8a1310>"
      ]
     },
     "execution_count": 258,
     "metadata": {},
     "output_type": "execute_result"
    },
    {
     "data": {
      "image/png": "[encoded data removed]",
      "text/plain": [
       "<Figure size 360x360 with 1 Axes>"
      ]
     },
     "metadata": {
      "needs_background": "light"
     },
     "output_type": "display_data"
    }
   ],
   "source": [
    "sns.displot((y_test-predictions),bins=50, kde=True)"
   ]
  },
  {
   "cell_type": "markdown",
   "id": "6142fe02",
   "metadata": {},
   "source": [
    "**Evaluating our model**"
   ]
  },
  {
   "cell_type": "code",
   "execution_count": 254,
   "id": "dd25b3d5",
   "metadata": {},
   "outputs": [
    {
     "name": "stdout",
     "output_type": "stream",
     "text": [
      "MAE: 3.381044811158415\n",
      "MSE: 20.789783539584132\n",
      "RMSE: 4.559581509259828\n"
     ]
    }
   ],
   "source": [
    "# calculate these metrics by hand!\n",
    "from sklearn import metrics\n",
    "\n",
    "print('MAE:', metrics.mean_absolute_error(y_test, predictions))\n",
    "print('MSE:', metrics.mean_squared_error(y_test, predictions))\n",
    "print('RMSE:', np.sqrt(metrics.mean_squared_error(y_test, predictions)))"
   ]
  },
  {
   "cell_type": "markdown",
   "id": "7a3db2ae",
   "metadata": {},
   "source": [
    "## Conclusion"
   ]
  },
  {
   "cell_type": "markdown",
   "id": "3bd3fb20",
   "metadata": {},
   "source": [
    "The dataset provided some interesting insights into the food waste situation of a Downtown Brooklyn neighborhood. There seemed to be some interesting patterns like organic food being thrown out more often, when organic food are sometimes marketed as better for the environment. The claims made in this report and our machine learning model could be solidified with more data. Especially some conjectures like certain food items being more popular in some areas and the effect of the sentiment of label language on different food items can be made more trust-worthy in further research. "
   ]
  }
 ],
 "metadata": {
  "kernelspec": {
   "display_name": "Python 3",
   "language": "python",
   "name": "python3"
  },
  "language_info": {
   "codemirror_mode": {
    "name": "ipython",
    "version": 3
   },
   "file_extension": ".py",
   "mimetype": "text/x-python",
   "name": "python",
   "nbconvert_exporter": "python",
   "pygments_lexer": "ipython3",
   "version": "3.9.2"
  }
 },
 "nbformat": 4,
 "nbformat_minor": 5
}
